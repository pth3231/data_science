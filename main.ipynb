{
 "cells": [
  {
   "cell_type": "code",
   "execution_count": 6,
   "metadata": {},
   "outputs": [
    {
     "name": "stdout",
     "output_type": "stream",
     "text": [
      "[INFO] --> Successful!\n",
      "[STAT] --> 10.4.30-MariaDB-log\n",
      "insert failed: Duplicate entry '2' for key 'PRIMARY'\n",
      "(1, 'Nick')\n",
      "(2, 'Danh')\n"
     ]
    }
   ],
   "source": [
    "import mariadb\n",
    "import sys\n",
    "\n",
    "def log(type, mess):\n",
    "    print(f\"[{type}] --> {mess}\")\n",
    "    \n",
    "try:\n",
    "    conn = mariadb.connect(\n",
    "        user='k1997lr103p9b5j0',\n",
    "        password='pcxvgukbaipvbfa2',\n",
    "        host='f80b6byii2vwv8cx.chr7pe7iynqr.eu-west-1.rds.amazonaws.com',\n",
    "        port=3306,\n",
    "        database='rsa7x8ouhw0w07k3'\n",
    "    )\n",
    "    log(\"INFO\", \"Successful!\")\n",
    "except mariadb.Error as e:\n",
    "    print(f\"Error when connecting to database: {e}\")\n",
    "    sys.exit(1)\n",
    "    \n",
    "log(\"STAT\", conn.server_info)\n",
    "\n",
    "cur = conn.cursor()\n",
    "\n",
    "try:\n",
    "    cur.execute(\"INSERT INTO testtb (id, name) VALUES (?, ?);\", (2, \"Danh\"))\n",
    "except mariadb.Error as e:\n",
    "    print(f'insert failed: {e}')\n",
    "conn.commit()\n",
    "\n",
    "cur.execute(\"SELECT * FROM testtb;\")\n",
    "rows = cur.fetchall()\n",
    "\n",
    "conn.close()\n",
    "\n",
    "for row in rows:\n",
    "    print(row)"
   ]
  }
 ],
 "metadata": {
  "kernelspec": {
   "display_name": "Python 3",
   "language": "python",
   "name": "python3"
  },
  "language_info": {
   "codemirror_mode": {
    "name": "ipython",
    "version": 3
   },
   "file_extension": ".py",
   "mimetype": "text/x-python",
   "name": "python",
   "nbconvert_exporter": "python",
   "pygments_lexer": "ipython3",
   "version": "3.11.4"
  },
  "orig_nbformat": 4
 },
 "nbformat": 4,
 "nbformat_minor": 2
}
